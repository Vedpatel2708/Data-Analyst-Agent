{
 "cells": [
  {
   "cell_type": "markdown",
   "id": "1b2fda13",
   "metadata": {},
   "source": [
    "\n",
    "# Data Analyst Agent\n",
    "\n",
    "This notebook allows you to:\n",
    "- Upload various document types (.csv, .xlsx, .pdf, .docx, images)\n",
    "- Extract and process data\n",
    "- Answer questions using Groq API\n",
    "- Create visualizations\n"
   ]
  },
  {
   "cell_type": "code",
   "execution_count": 1,
   "id": "45f705a7",
   "metadata": {},
   "outputs": [
    {
     "name": "stdout",
     "output_type": "stream",
     "text": [
      "Requirement already satisfied: pandas in /Library/Frameworks/Python.framework/Versions/3.12/lib/python3.12/site-packages (2.2.3)\n",
      "Requirement already satisfied: numpy in /Library/Frameworks/Python.framework/Versions/3.12/lib/python3.12/site-packages (2.0.2)\n",
      "Requirement already satisfied: matplotlib in /Library/Frameworks/Python.framework/Versions/3.12/lib/python3.12/site-packages (3.9.3)\n",
      "Requirement already satisfied: seaborn in /Library/Frameworks/Python.framework/Versions/3.12/lib/python3.12/site-packages (0.13.2)\n",
      "Collecting pdfplumber\n",
      "  Downloading pdfplumber-0.11.5-py3-none-any.whl.metadata (42 kB)\n",
      "Collecting python-docx\n",
      "  Downloading python_docx-1.1.2-py3-none-any.whl.metadata (2.0 kB)\n",
      "Requirement already satisfied: pillow in /Library/Frameworks/Python.framework/Versions/3.12/lib/python3.12/site-packages (11.0.0)\n",
      "Collecting pytesseract\n",
      "  Downloading pytesseract-0.3.13-py3-none-any.whl.metadata (11 kB)\n",
      "Requirement already satisfied: groq in /Library/Frameworks/Python.framework/Versions/3.12/lib/python3.12/site-packages (0.20.0)\n",
      "Requirement already satisfied: python-dateutil>=2.8.2 in /Library/Frameworks/Python.framework/Versions/3.12/lib/python3.12/site-packages (from pandas) (2.8.2)\n",
      "Requirement already satisfied: pytz>=2020.1 in /Library/Frameworks/Python.framework/Versions/3.12/lib/python3.12/site-packages (from pandas) (2024.2)\n",
      "Requirement already satisfied: tzdata>=2022.7 in /Library/Frameworks/Python.framework/Versions/3.12/lib/python3.12/site-packages (from pandas) (2024.2)\n",
      "Requirement already satisfied: contourpy>=1.0.1 in /Library/Frameworks/Python.framework/Versions/3.12/lib/python3.12/site-packages (from matplotlib) (1.3.1)\n",
      "Requirement already satisfied: cycler>=0.10 in /Library/Frameworks/Python.framework/Versions/3.12/lib/python3.12/site-packages (from matplotlib) (0.12.1)\n",
      "Requirement already satisfied: fonttools>=4.22.0 in /Library/Frameworks/Python.framework/Versions/3.12/lib/python3.12/site-packages (from matplotlib) (4.55.2)\n",
      "Requirement already satisfied: kiwisolver>=1.3.1 in /Library/Frameworks/Python.framework/Versions/3.12/lib/python3.12/site-packages (from matplotlib) (1.4.7)\n",
      "Requirement already satisfied: packaging>=20.0 in /Users/vedpatel/Library/Python/3.12/lib/python/site-packages (from matplotlib) (24.2)\n",
      "Requirement already satisfied: pyparsing>=2.3.1 in /Library/Frameworks/Python.framework/Versions/3.12/lib/python3.12/site-packages (from matplotlib) (3.2.0)\n",
      "Collecting pdfminer.six==20231228 (from pdfplumber)\n",
      "  Downloading pdfminer.six-20231228-py3-none-any.whl.metadata (4.2 kB)\n",
      "Collecting pypdfium2>=4.18.0 (from pdfplumber)\n",
      "  Downloading pypdfium2-4.30.1-py3-none-macosx_11_0_arm64.whl.metadata (48 kB)\n",
      "Requirement already satisfied: charset-normalizer>=2.0.0 in /Users/vedpatel/Library/Python/3.12/lib/python/site-packages (from pdfminer.six==20231228->pdfplumber) (3.4.0)\n",
      "Requirement already satisfied: cryptography>=36.0.0 in /Library/Frameworks/Python.framework/Versions/3.12/lib/python3.12/site-packages (from pdfminer.six==20231228->pdfplumber) (44.0.0)\n",
      "Collecting lxml>=3.1.0 (from python-docx)\n",
      "  Downloading lxml-5.3.1-cp312-cp312-macosx_10_9_universal2.whl.metadata (3.7 kB)\n",
      "Requirement already satisfied: typing-extensions>=4.9.0 in /Users/vedpatel/Library/Python/3.12/lib/python/site-packages (from python-docx) (4.12.2)\n",
      "Requirement already satisfied: anyio<5,>=3.5.0 in /Users/vedpatel/Library/Python/3.12/lib/python/site-packages (from groq) (4.7.0)\n",
      "Requirement already satisfied: distro<2,>=1.7.0 in /Library/Frameworks/Python.framework/Versions/3.12/lib/python3.12/site-packages (from groq) (1.9.0)\n",
      "Requirement already satisfied: httpx<1,>=0.23.0 in /Users/vedpatel/Library/Python/3.12/lib/python/site-packages (from groq) (0.28.1)\n",
      "Requirement already satisfied: pydantic<3,>=1.9.0 in /Library/Frameworks/Python.framework/Versions/3.12/lib/python3.12/site-packages (from groq) (2.10.3)\n",
      "Requirement already satisfied: sniffio in /Users/vedpatel/Library/Python/3.12/lib/python/site-packages (from groq) (1.3.1)\n",
      "Requirement already satisfied: idna>=2.8 in /Users/vedpatel/Library/Python/3.12/lib/python/site-packages (from anyio<5,>=3.5.0->groq) (3.10)\n",
      "Requirement already satisfied: certifi in /Users/vedpatel/Library/Python/3.12/lib/python/site-packages (from httpx<1,>=0.23.0->groq) (2024.8.30)\n",
      "Requirement already satisfied: httpcore==1.* in /Users/vedpatel/Library/Python/3.12/lib/python/site-packages (from httpx<1,>=0.23.0->groq) (1.0.7)\n",
      "Requirement already satisfied: h11<0.15,>=0.13 in /Users/vedpatel/Library/Python/3.12/lib/python/site-packages (from httpcore==1.*->httpx<1,>=0.23.0->groq) (0.14.0)\n",
      "Requirement already satisfied: annotated-types>=0.6.0 in /Library/Frameworks/Python.framework/Versions/3.12/lib/python3.12/site-packages (from pydantic<3,>=1.9.0->groq) (0.7.0)\n",
      "Requirement already satisfied: pydantic-core==2.27.1 in /Library/Frameworks/Python.framework/Versions/3.12/lib/python3.12/site-packages (from pydantic<3,>=1.9.0->groq) (2.27.1)\n",
      "Requirement already satisfied: six>=1.5 in /Users/vedpatel/Library/Python/3.12/lib/python/site-packages (from python-dateutil>=2.8.2->pandas) (1.17.0)\n",
      "Requirement already satisfied: cffi>=1.12 in /Users/vedpatel/Library/Python/3.12/lib/python/site-packages (from cryptography>=36.0.0->pdfminer.six==20231228->pdfplumber) (1.17.1)\n",
      "Requirement already satisfied: pycparser in /Users/vedpatel/Library/Python/3.12/lib/python/site-packages (from cffi>=1.12->cryptography>=36.0.0->pdfminer.six==20231228->pdfplumber) (2.22)\n",
      "Downloading pdfplumber-0.11.5-py3-none-any.whl (59 kB)\n",
      "Downloading pdfminer.six-20231228-py3-none-any.whl (5.6 MB)\n",
      "\u001b[2K   \u001b[90m━━━━━━━━━━━━━━━━━━━━━━━━━━━━━━━━━━━━━━━━\u001b[0m \u001b[32m5.6/5.6 MB\u001b[0m \u001b[31m260.9 kB/s\u001b[0m eta \u001b[36m0:00:00\u001b[0m00:01\u001b[0m00:02\u001b[0m\n",
      "\u001b[?25hDownloading python_docx-1.1.2-py3-none-any.whl (244 kB)\n",
      "Downloading pytesseract-0.3.13-py3-none-any.whl (14 kB)\n",
      "Downloading lxml-5.3.1-cp312-cp312-macosx_10_9_universal2.whl (8.2 MB)\n",
      "\u001b[2K   \u001b[90m━━━━━━━━━━━━━━━━━━━━━━━━━━━━━━━━━━━━━━━━\u001b[0m \u001b[32m8.2/8.2 MB\u001b[0m \u001b[31m766.7 kB/s\u001b[0m eta \u001b[36m0:00:00\u001b[0m00:01\u001b[0m00:01\u001b[0m\n",
      "\u001b[?25hDownloading pypdfium2-4.30.1-py3-none-macosx_11_0_arm64.whl (2.8 MB)\n",
      "\u001b[2K   \u001b[90m━━━━━━━━━━━━━━━━━━━━━━━━━━━━━━━━━━━━━━━━\u001b[0m \u001b[32m2.8/2.8 MB\u001b[0m \u001b[31m2.4 MB/s\u001b[0m eta \u001b[36m0:00:00\u001b[0ma \u001b[36m0:00:01\u001b[0m\n",
      "\u001b[?25hInstalling collected packages: pytesseract, pypdfium2, lxml, python-docx, pdfminer.six, pdfplumber\n",
      "Successfully installed lxml-5.3.1 pdfminer.six-20231228 pdfplumber-0.11.5 pypdfium2-4.30.1 pytesseract-0.3.13 python-docx-1.1.2\n"
     ]
    }
   ],
   "source": [
    "\n",
    "# Install necessary libraries\n",
    "!pip3 install pandas numpy matplotlib seaborn pdfplumber python-docx pillow pytesseract groq\n"
   ]
  },
  {
   "cell_type": "code",
   "execution_count": 2,
   "id": "aab63c7a",
   "metadata": {},
   "outputs": [],
   "source": [
    "\n",
    "# Import libraries\n",
    "import pandas as pd\n",
    "import matplotlib.pyplot as plt\n",
    "import seaborn as sns\n",
    "import pdfplumber\n",
    "from docx import Document\n",
    "from PIL import Image\n",
    "import pytesseract\n",
    "from groq import Groq\n"
   ]
  },
  {
   "cell_type": "code",
   "execution_count": 3,
   "id": "1f2c061e",
   "metadata": {},
   "outputs": [],
   "source": [
    "\n",
    "# Initialize Groq client\n",
    "client = Groq(api_key='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')\n"
   ]
  },
  {
   "cell_type": "code",
   "execution_count": 4,
   "id": "8d16a4cf",
   "metadata": {},
   "outputs": [],
   "source": [
    "\n",
    "# Function to read CSV and Excel files\n",
    "def read_tabular_file(file_path):\n",
    "    if file_path.endswith('.csv'):\n",
    "        return pd.read_csv(file_path)\n",
    "    elif file_path.endswith('.xlsx'):\n",
    "        return pd.read_excel(file_path)\n",
    "    else:\n",
    "        raise ValueError(\"Unsupported file format\")\n"
   ]
  },
  {
   "cell_type": "code",
   "execution_count": 5,
   "id": "27b0d851",
   "metadata": {},
   "outputs": [],
   "source": [
    "\n",
    "# Function to extract text from PDF\n",
    "def read_pdf(file_path):\n",
    "    text = ''\n",
    "    with pdfplumber.open(file_path) as pdf:\n",
    "        for page in pdf.pages:\n",
    "            text += page.extract_text() or ''\n",
    "    return text\n"
   ]
  },
  {
   "cell_type": "code",
   "execution_count": 6,
   "id": "b9851be5",
   "metadata": {},
   "outputs": [],
   "source": [
    "\n",
    "# Function to extract text from DOCX\n",
    "def read_docx(file_path):\n",
    "    doc = Document(file_path)\n",
    "    return '\\n'.join([para.text for para in doc.paragraphs])\n"
   ]
  },
  {
   "cell_type": "code",
   "execution_count": 7,
   "id": "6fc6bd5d",
   "metadata": {},
   "outputs": [],
   "source": [
    "\n",
    "# Function to extract text from images\n",
    "def read_image(file_path):\n",
    "    image = Image.open(file_path)\n",
    "    text = pytesseract.image_to_string(image)\n",
    "    return text\n"
   ]
  },
  {
   "cell_type": "code",
   "execution_count": 8,
   "id": "1e5c3837",
   "metadata": {},
   "outputs": [],
   "source": [
    "\n",
    "# Function to handle file upload\n",
    "def handle_file(file_path):\n",
    "    if file_path.endswith(('.csv', '.xlsx')):\n",
    "        return read_tabular_file(file_path)\n",
    "    elif file_path.endswith('.pdf'):\n",
    "        return read_pdf(file_path)\n",
    "    elif file_path.endswith('.docx'):\n",
    "        return read_docx(file_path)\n",
    "    elif file_path.endswith(('.png', '.jpg', '.jpeg')):\n",
    "        return read_image(file_path)\n",
    "    else:\n",
    "        raise ValueError(\"Unsupported file format\")\n"
   ]
  },
  {
   "cell_type": "code",
   "execution_count": 9,
   "id": "d3683acb",
   "metadata": {},
   "outputs": [],
   "source": [
    "\n",
    "# Function to ask questions using Groq\n",
    "def ask_question(prompt):\n",
    "    response = client.chat.completions.create(\n",
    "        model=\"llama3-8b-8192\",\n",
    "        messages=[{\"role\": \"user\", \"content\": prompt}],\n",
    "        max_tokens=500\n",
    "    )\n",
    "    return response.choices[0].message.content\n"
   ]
  },
  {
   "cell_type": "code",
   "execution_count": 10,
   "id": "c8a4677a",
   "metadata": {},
   "outputs": [],
   "source": [
    "\n",
    "# Function to create a visualization\n",
    "def create_visualization(data, plot_type, x_col=None, y_col=None):\n",
    "    if isinstance(data, pd.DataFrame):\n",
    "        plt.figure(figsize=(10, 6))\n",
    "        if plot_type == 'bar':\n",
    "            sns.barplot(x=x_col, y=y_col, data=data)\n",
    "        elif plot_type == 'line':\n",
    "            sns.lineplot(x=x_col, y=y_col, data=data)\n",
    "        elif plot_type == 'scatter':\n",
    "            sns.scatterplot(x=x_col, y=y_col, data=data)\n",
    "        plt.title(f\"{plot_type.capitalize()} plot of {y_col} vs {x_col}\")\n",
    "        plt.show()\n",
    "    else:\n",
    "        print(\"Invalid data for visualization\")\n"
   ]
  },
  {
   "cell_type": "code",
   "execution_count": 13,
   "id": "2b6e832f",
   "metadata": {},
   "outputs": [],
   "source": [
    "import time\n",
    "\n",
    "def main():\n",
    "    file_path = input(\"Enter the file path: \")\n",
    "    try:\n",
    "        data = handle_file(file_path)\n",
    "        if isinstance(data, pd.DataFrame):\n",
    "            print(\"\\nAvailable columns:\", data.columns)\n",
    "            x_col = input(\"Enter x column for visualization: \")\n",
    "            y_col = input(\"Enter y column for visualization: \")\n",
    "            plot_type = input(\"Enter plot type (bar/line/scatter): \")\n",
    "            create_visualization(data, plot_type, x_col, y_col)\n",
    "        else:\n",
    "            query = input(\"\\nAsk a question (or type 'exit' to quit): \")\n",
    "            if query.lower() != 'exit':\n",
    "                # Add a timeout to avoid hanging\n",
    "                start_time = time.time()\n",
    "                try:\n",
    "                    response = ask_question(f\"Context: {data}\\nQuestion: {query}\")\n",
    "                    print(\"\\nAnswer:\", response)\n",
    "                except Exception as e:\n",
    "                    print(f\"Error during LLM call: {e}\")\n",
    "                finally:\n",
    "                    end_time = time.time()\n",
    "                    print(f\"\\nResponse Time: {end_time - start_time:.2f} seconds\")\n",
    "    except Exception as e:\n",
    "        print(\"Error:\", e)"
   ]
  },
  {
   "cell_type": "code",
   "execution_count": 15,
   "id": "9d9310f3",
   "metadata": {},
   "outputs": [
    {
     "name": "stdout",
     "output_type": "stream",
     "text": [
      "Error: Unsupported file format\n"
     ]
    }
   ],
   "source": [
    "main()\n"
   ]
  },
  {
   "cell_type": "code",
   "execution_count": null,
   "id": "2828f392",
   "metadata": {},
   "outputs": [],
   "source": []
  }
 ],
 "metadata": {
  "kernelspec": {
   "display_name": "Python 3.12.8 64-bit",
   "language": "python",
   "name": "python3"
  },
  "language_info": {
   "codemirror_mode": {
    "name": "ipython",
    "version": 3
   },
   "file_extension": ".py",
   "mimetype": "text/x-python",
   "name": "python",
   "nbconvert_exporter": "python",
   "pygments_lexer": "ipython3",
   "version": "3.12.8"
  },
  "vscode": {
   "interpreter": {
    "hash": "aee8b7b246df8f9039afb4144a1f6fd8d2ca17a180786b69acc140d282b71a49"
   }
  }
 },
 "nbformat": 4,
 "nbformat_minor": 5
}
